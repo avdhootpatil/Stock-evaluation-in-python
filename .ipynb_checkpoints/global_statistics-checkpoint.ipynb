{
 "cells": [
  {
   "cell_type": "code",
   "execution_count": 12,
   "metadata": {},
   "outputs": [
    {
     "data": {
      "image/png": "[encoded data removed]",
      "text/plain": [
       "<Figure size 432x288 with 1 Axes>"
      ]
     },
     "metadata": {
      "needs_background": "light"
     },
     "output_type": "display_data"
    },
    {
     "name": "stdout",
     "output_type": "stream",
     "text": [
      "MEAN\n",
      "SPY     103.612381\n",
      "GOOG    400.601905\n",
      "IBM     100.434762\n",
      "GLD      85.119048\n",
      "dtype: float64\n",
      "\n",
      "\n",
      "MEDIAN\n",
      "SPY     107.44\n",
      "GOOG    411.72\n",
      "IBM     106.36\n",
      "GLD      85.97\n",
      "dtype: float64\n",
      "\n",
      "\n",
      "standard deviation\n",
      "SPY      9.833204\n",
      "GOOG    39.387159\n",
      "IBM     10.300119\n",
      "GLD      3.611765\n",
      "dtype: float64\n"
     ]
    }
   ],
   "source": [
    "import pandas as pd\n",
    "import os\n",
    "import pandas as pd\n",
    "import matplotlib.pyplot as plt\n",
    "\n",
    "\n",
    "def symbol_to_path(symbol, base_dir='data'):\n",
    "    return os.path.join(base_dir, \"{}.csv\".format(str(symbol)))\n",
    "\n",
    "def get_data(symbols, dates):\n",
    "    df = pd.DataFrame(index=dates)\n",
    "    if 'SPY' not in symbols:\n",
    "        symbols.insert(0, 'SPY')\n",
    "    for symbol in symbols:\n",
    "        df_temp = pd.read_csv(symbol_to_path(symbol),index_col=\"Date\",parse_dates=True,usecols=['Date','Adj Close'],\n",
    "                              na_values=['nan'])\n",
    "        df_temp = df_temp.rename(columns={'Adj Close':symbol})\n",
    "        df = df.join(df_temp,how=\"inner\")\n",
    "    return df\n",
    "\n",
    "def plot_data(df,title=\"stock\"):\n",
    "    ax = df.plot(title=title,fontsize=2) #creating object of the plot\n",
    "    ax.set_xlabel(\"Date\")         #setting x label on plot object\n",
    "    ax.set_ylabel(\"Price of stock\")  #setting ylabel on plot object\n",
    "    plt.show()\n",
    "\n",
    "def test_run():\n",
    "    start_date=\"2008-09-13\" \n",
    "    end_date=\"2008-10-13\"\n",
    "    dates = pd.date_range(start_date,end_date)\n",
    "    symbols = ['GOOG', 'IBM', 'GLD']\n",
    "    \n",
    "    df = get_data(symbols, dates)\n",
    "    plot_data(df)\n",
    "    \n",
    "    #computing global statistics\n",
    "    print(\"MEAN\")\n",
    "    print(df.mean())\n",
    "    print(\"\\n\")\n",
    "    print(\"MEDIAN\")\n",
    "    print(df.median())\n",
    "    print(\"\\n\")\n",
    "    print(\"standard deviation\") #higher value of standard deviation means stocks price has varied a lot over time\n",
    "    print(df.std())\n",
    "    \n",
    "if __name__==\"__main__\":\n",
    "    test_run()"
   ]
  },
  {
   "cell_type": "code",
   "execution_count": null,
   "metadata": {},
   "outputs": [],
   "source": []
  },
  {
   "cell_type": "code",
   "execution_count": null,
   "metadata": {},
   "outputs": [],
   "source": []
  },
  {
   "cell_type": "code",
   "execution_count": null,
   "metadata": {},
   "outputs": [],
   "source": []
  },
  {
   "cell_type": "code",
   "execution_count": null,
   "metadata": {},
   "outputs": [],
   "source": []
  },
  {
   "cell_type": "code",
   "execution_count": null,
   "metadata": {},
   "outputs": [],
   "source": []
  },
  {
   "cell_type": "code",
   "execution_count": null,
   "metadata": {},
   "outputs": [],
   "source": []
  },
  {
   "cell_type": "code",
   "execution_count": null,
   "metadata": {},
   "outputs": [],
   "source": []
  },
  {
   "cell_type": "code",
   "execution_count": null,
   "metadata": {},
   "outputs": [],
   "source": []
  },
  {
   "cell_type": "code",
   "execution_count": null,
   "metadata": {},
   "outputs": [],
   "source": []
  },
  {
   "cell_type": "code",
   "execution_count": null,
   "metadata": {},
   "outputs": [],
   "source": []
  },
  {
   "cell_type": "code",
   "execution_count": null,
   "metadata": {},
   "outputs": [],
   "source": []
  },
  {
   "cell_type": "code",
   "execution_count": null,
   "metadata": {},
   "outputs": [],
   "source": []
  }
 ],
 "metadata": {
  "kernelspec": {
   "display_name": "Python 3",
   "language": "python",
   "name": "python3"
  },
  "language_info": {
   "codemirror_mode": {
    "name": "ipython",
    "version": 3
   },
   "file_extension": ".py",
   "mimetype": "text/x-python",
   "name": "python",
   "nbconvert_exporter": "python",
   "pygments_lexer": "ipython3",
   "version": "3.7.0"
  }
 },
 "nbformat": 4,
 "nbformat_minor": 2
}
