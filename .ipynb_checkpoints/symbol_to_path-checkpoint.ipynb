{
 "cells": [
  {
   "cell_type": "code",
   "execution_count": 10,
   "metadata": {},
   "outputs": [
    {
     "name": "stdout",
     "output_type": "stream",
     "text": [
      "               SPY    GOOG     IBM    GLD\n",
      "2008-09-15  110.59  433.86  107.04  77.56\n",
      "2008-09-16  112.44  442.93  107.84  76.79\n",
      "2008-09-17  107.39  414.49  103.58  85.46\n",
      "2008-09-18  110.58  439.08  106.97  82.80\n",
      "2008-09-19  114.97  449.15  110.44  85.98\n",
      "2008-09-22  112.36  430.14  107.99  89.18\n",
      "2008-09-23  109.81  429.27  107.20  88.32\n",
      "2008-09-24  110.16  435.11  108.22  86.71\n",
      "2008-09-25  111.88  439.60  111.61  86.45\n",
      "2008-09-26  111.94  431.04  110.97  86.64\n",
      "2008-09-29  103.17  381.00  106.36  89.57\n",
      "2008-09-30  107.44  400.52  108.68  85.07\n",
      "2008-10-01  107.50  411.72  102.34  85.97\n",
      "2008-10-02  103.60  390.49   97.33  82.33\n",
      "2008-10-03  102.20  386.91   96.12  82.59\n",
      "2008-10-06   97.00  371.21   93.50  84.28\n",
      "2008-10-07   92.65  346.01   88.88  87.27\n",
      "2008-10-08   90.32  338.11   84.14  89.42\n",
      "2008-10-09   84.01  328.98   82.70  89.90\n",
      "2008-10-10   81.97  332.00   81.54  83.22\n",
      "2008-10-13   93.88  381.02   85.68  81.99\n"
     ]
    },
    {
     "data": {
      "image/png": "[encoded data removed]",
      "text/plain": [
       "<Figure size 432x288 with 1 Axes>"
      ]
     },
     "metadata": {
      "needs_background": "light"
     },
     "output_type": "display_data"
    }
   ],
   "source": [
    "import os\n",
    "import pandas as pd\n",
    "import matplotlib.pyplot as plt\n",
    "\n",
    "\n",
    "def plot_selected(df,columns,start_index,end_index):\n",
    "    df = df.ix[start_index:end_inedx,columns]\n",
    "    df.plot();\n",
    "    plt.show();\n",
    "\n",
    "def symbol_to_path(symbol, base_dir='data'):\n",
    "    return os.path.join(base_dir, \"{}.csv\".format(str(symbol)))\n",
    "\n",
    "\n",
    "def get_data(symbols, dates):\n",
    "    df = pd.DataFrame(index=dates)\n",
    "    if 'SPY' not in symbols:\n",
    "        symbols.insert(0, 'SPY')\n",
    "    for symbol in symbols:\n",
    "        df_temp = pd.read_csv(symbol_to_path(symbol),index_col=\"Date\",parse_dates=True,usecols=['Date','Adj Close'],\n",
    "                              na_values=['nan'])\n",
    "        df_temp = df_temp.rename(columns={'Adj Close':symbol})\n",
    "        df = df.join(df_temp,how=\"inner\")\n",
    "    return df\n",
    "\n",
    "\n",
    "def plot_data(df,title=\"Stock prices\"):\n",
    "    ax = df.plot(title=title,fontsize=2) #creating object of the plot\n",
    "    ax.set_xlabel(\"Date\")         #setting x label on plot object\n",
    "    ax.set_ylabel(\"Price of stock\")  #setting ylabel on plot object\n",
    "    plt.show()\n",
    "\n",
    "\n",
    "def test_run():\n",
    "    start_date=\"2008-9-13\" =\n",
    "    end_date=\"2008-10-13\"\n",
    "    dates = pd.date_range(start_date,end_date)\n",
    "    symbols = ['GOOG', 'IBM', 'GLD']\n",
    "    \n",
    "    df = get_data(symbols, dates)\n",
    "   \n",
    "    plot_selected(df,['SPY','IBM'],'2010-03-01','2010-04-01')\n",
    "\n",
    "    \n",
    "if __name__==\"__main__\":\n",
    "    test_run()"
   ]
  },
  {
   "cell_type": "code",
   "execution_count": null,
   "metadata": {},
   "outputs": [],
   "source": []
  },
  {
   "cell_type": "code",
   "execution_count": null,
   "metadata": {},
   "outputs": [],
   "source": []
  },
  {
   "cell_type": "code",
   "execution_count": null,
   "metadata": {},
   "outputs": [],
   "source": []
  },
  {
   "cell_type": "code",
   "execution_count": null,
   "metadata": {},
   "outputs": [],
   "source": []
  },
  {
   "cell_type": "code",
   "execution_count": null,
   "metadata": {},
   "outputs": [],
   "source": []
  },
  {
   "cell_type": "code",
   "execution_count": null,
   "metadata": {},
   "outputs": [],
   "source": []
  },
  {
   "cell_type": "code",
   "execution_count": null,
   "metadata": {},
   "outputs": [],
   "source": []
  },
  {
   "cell_type": "code",
   "execution_count": null,
   "metadata": {},
   "outputs": [],
   "source": []
  },
  {
   "cell_type": "code",
   "execution_count": null,
   "metadata": {},
   "outputs": [],
   "source": []
  },
  {
   "cell_type": "code",
   "execution_count": null,
   "metadata": {},
   "outputs": [],
   "source": []
  }
 ],
 "metadata": {
  "kernelspec": {
   "display_name": "Python 3",
   "language": "python",
   "name": "python3"
  },
  "language_info": {
   "codemirror_mode": {
    "name": "ipython",
    "version": 3
   },
   "file_extension": ".py",
   "mimetype": "text/x-python",
   "name": "python",
   "nbconvert_exporter": "python",
   "pygments_lexer": "ipython3",
   "version": "3.7.0"
  }
 },
 "nbformat": 4,
 "nbformat_minor": 2
}
