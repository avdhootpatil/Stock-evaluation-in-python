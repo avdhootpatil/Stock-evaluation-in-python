{
 "cells": [
  {
   "cell_type": "code",
   "execution_count": 1,
   "metadata": {},
   "outputs": [
    {
     "name": "stdout",
     "output_type": "stream",
     "text": [
      "               SPY    GOOG     IBM    GLD\n",
      "2008-09-15  110.59  433.86  107.04  77.56\n",
      "2008-09-16  112.44  442.93  107.84  76.79\n",
      "2008-09-17  107.39  414.49  103.58  85.46\n",
      "2008-09-18  110.58  439.08  106.97  82.80\n",
      "2008-09-19  114.97  449.15  110.44  85.98\n",
      "2008-09-22  112.36  430.14  107.99  89.18\n",
      "2008-09-23  109.81  429.27  107.20  88.32\n",
      "2008-09-24  110.16  435.11  108.22  86.71\n",
      "2008-09-25  111.88  439.60  111.61  86.45\n",
      "2008-09-26  111.94  431.04  110.97  86.64\n",
      "2008-09-29  103.17  381.00  106.36  89.57\n",
      "2008-09-30  107.44  400.52  108.68  85.07\n",
      "2008-10-01  107.50  411.72  102.34  85.97\n",
      "2008-10-02  103.60  390.49   97.33  82.33\n",
      "2008-10-03  102.20  386.91   96.12  82.59\n",
      "2008-10-06   97.00  371.21   93.50  84.28\n",
      "2008-10-07   92.65  346.01   88.88  87.27\n",
      "2008-10-08   90.32  338.11   84.14  89.42\n",
      "2008-10-09   84.01  328.98   82.70  89.90\n",
      "2008-10-10   81.97  332.00   81.54  83.22\n",
      "2008-10-13   93.88  381.02   85.68  81.99\n"
     ]
    }
   ],
   "source": [
    "import pandas as pd\n",
    "import matplotlib as plt\n",
    "\n",
    "def test():\n",
    "    df = pd.read_csv(\"./aapl.csv\")\n",
    "    print(df.head())\n",
    "    df[['Close','Adj Close']].plot()\n",
    "    \n",
    "    \n",
    "def print_data():\n",
    "    df = pd.read_csv(\"./aapl.csv\")\n",
    "    print(df[1:30])\n",
    "\n",
    "#Creating an empty dataframe\n",
    "def build_dataframe():\n",
    "    start_date='2008-9-13'\n",
    "    end_date='2008-10-13'\n",
    "    dates = pd.date_range(start_date,end_date)\n",
    "    df1 = pd.DataFrame(index=dates) \n",
    "    dfSPY = pd.read_csv(\"./data/SPY.csv\",index_col=\"Date\",parse_dates=True,usecols=['Date','Adj Close'],\n",
    "                       na_values=['nan'])\n",
    "    dfSPY = dfSPY.rename(columns={'Adj Close' : 'SPY'})\n",
    "    \n",
    "    df1 = df1.join(dfSPY)\n",
    "    df1 = df1.dropna()\n",
    "    df1.plot()\n",
    "    \n",
    "    symbols = ['GOOG','IBM','GLD']\n",
    "    \n",
    "    for symbol in symbols:\n",
    "        df_temp = pd.read_csv(\"data/{}.csv\".format(symbol) ,index_col=\"Date\",parse_dates=True,\n",
    "                              usecols=['Date','Adj Close'],na_values=['nan'])\n",
    "        #rename to prevent clash\n",
    "        df_temp = df_temp.rename(columns={'Adj Close':symbol})\n",
    "        df1 = df1.join(df_temp)\n",
    "    print(df1)\n",
    "    df1.plot()\n",
    "    \n",
    "if __name__==\"__main__\":\n",
    "    build_dataframe()\n",
    "    "
   ]
  },
  {
   "cell_type": "code",
   "execution_count": null,
   "metadata": {},
   "outputs": [],
   "source": []
  },
  {
   "cell_type": "code",
   "execution_count": null,
   "metadata": {},
   "outputs": [],
   "source": []
  },
  {
   "cell_type": "code",
   "execution_count": null,
   "metadata": {},
   "outputs": [],
   "source": []
  },
  {
   "cell_type": "code",
   "execution_count": null,
   "metadata": {},
   "outputs": [],
   "source": []
  },
  {
   "cell_type": "code",
   "execution_count": null,
   "metadata": {},
   "outputs": [],
   "source": []
  },
  {
   "cell_type": "code",
   "execution_count": null,
   "metadata": {},
   "outputs": [],
   "source": []
  },
  {
   "cell_type": "code",
   "execution_count": null,
   "metadata": {},
   "outputs": [],
   "source": []
  },
  {
   "cell_type": "code",
   "execution_count": null,
   "metadata": {},
   "outputs": [],
   "source": []
  },
  {
   "cell_type": "code",
   "execution_count": null,
   "metadata": {},
   "outputs": [],
   "source": []
  },
  {
   "cell_type": "code",
   "execution_count": null,
   "metadata": {},
   "outputs": [],
   "source": []
  },
  {
   "cell_type": "code",
   "execution_count": null,
   "metadata": {},
   "outputs": [],
   "source": []
  },
  {
   "cell_type": "code",
   "execution_count": null,
   "metadata": {},
   "outputs": [],
   "source": []
  },
  {
   "cell_type": "code",
   "execution_count": null,
   "metadata": {},
   "outputs": [],
   "source": []
  },
  {
   "cell_type": "code",
   "execution_count": null,
   "metadata": {},
   "outputs": [],
   "source": []
  },
  {
   "cell_type": "code",
   "execution_count": null,
   "metadata": {},
   "outputs": [],
   "source": []
  },
  {
   "cell_type": "code",
   "execution_count": null,
   "metadata": {},
   "outputs": [],
   "source": []
  },
  {
   "cell_type": "code",
   "execution_count": null,
   "metadata": {},
   "outputs": [],
   "source": []
  },
  {
   "cell_type": "code",
   "execution_count": null,
   "metadata": {},
   "outputs": [],
   "source": []
  },
  {
   "cell_type": "code",
   "execution_count": null,
   "metadata": {},
   "outputs": [],
   "source": []
  },
  {
   "cell_type": "code",
   "execution_count": null,
   "metadata": {},
   "outputs": [],
   "source": []
  },
  {
   "cell_type": "code",
   "execution_count": null,
   "metadata": {},
   "outputs": [],
   "source": []
  },
  {
   "cell_type": "code",
   "execution_count": null,
   "metadata": {},
   "outputs": [],
   "source": []
  },
  {
   "cell_type": "code",
   "execution_count": null,
   "metadata": {},
   "outputs": [],
   "source": []
  },
  {
   "cell_type": "code",
   "execution_count": null,
   "metadata": {},
   "outputs": [],
   "source": []
  },
  {
   "cell_type": "code",
   "execution_count": null,
   "metadata": {},
   "outputs": [],
   "source": []
  },
  {
   "cell_type": "code",
   "execution_count": null,
   "metadata": {},
   "outputs": [],
   "source": []
  },
  {
   "cell_type": "code",
   "execution_count": null,
   "metadata": {},
   "outputs": [],
   "source": []
  },
  {
   "cell_type": "code",
   "execution_count": null,
   "metadata": {},
   "outputs": [],
   "source": []
  },
  {
   "cell_type": "code",
   "execution_count": null,
   "metadata": {},
   "outputs": [],
   "source": []
  },
  {
   "cell_type": "code",
   "execution_count": null,
   "metadata": {},
   "outputs": [],
   "source": []
  },
  {
   "cell_type": "code",
   "execution_count": null,
   "metadata": {},
   "outputs": [],
   "source": []
  },
  {
   "cell_type": "code",
   "execution_count": null,
   "metadata": {},
   "outputs": [],
   "source": []
  },
  {
   "cell_type": "code",
   "execution_count": null,
   "metadata": {},
   "outputs": [],
   "source": []
  },
  {
   "cell_type": "code",
   "execution_count": null,
   "metadata": {},
   "outputs": [],
   "source": []
  },
  {
   "cell_type": "code",
   "execution_count": null,
   "metadata": {},
   "outputs": [],
   "source": []
  },
  {
   "cell_type": "code",
   "execution_count": null,
   "metadata": {},
   "outputs": [],
   "source": []
  },
  {
   "cell_type": "code",
   "execution_count": null,
   "metadata": {},
   "outputs": [],
   "source": []
  },
  {
   "cell_type": "code",
   "execution_count": null,
   "metadata": {},
   "outputs": [],
   "source": []
  },
  {
   "cell_type": "code",
   "execution_count": null,
   "metadata": {},
   "outputs": [],
   "source": []
  },
  {
   "cell_type": "code",
   "execution_count": null,
   "metadata": {},
   "outputs": [],
   "source": []
  },
  {
   "cell_type": "code",
   "execution_count": null,
   "metadata": {},
   "outputs": [],
   "source": []
  },
  {
   "cell_type": "code",
   "execution_count": null,
   "metadata": {},
   "outputs": [],
   "source": []
  },
  {
   "cell_type": "code",
   "execution_count": null,
   "metadata": {},
   "outputs": [],
   "source": []
  },
  {
   "cell_type": "code",
   "execution_count": null,
   "metadata": {},
   "outputs": [],
   "source": []
  }
 ],
 "metadata": {
  "kernelspec": {
   "display_name": "Python 3",
   "language": "python",
   "name": "python3"
  },
  "language_info": {
   "codemirror_mode": {
    "name": "ipython",
    "version": 3
   },
   "file_extension": ".py",
   "mimetype": "text/x-python",
   "name": "python",
   "nbconvert_exporter": "python",
   "pygments_lexer": "ipython3",
   "version": "3.7.0"
  }
 },
 "nbformat": 4,
 "nbformat_minor": 2
}
