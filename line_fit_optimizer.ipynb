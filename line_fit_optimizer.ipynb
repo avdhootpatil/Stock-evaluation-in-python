{
 "cells": [
  {
   "cell_type": "code",
   "execution_count": 25,
   "metadata": {},
   "outputs": [
    {
     "name": "stdout",
     "output_type": "stream",
     "text": [
      "Original line : C0 = 5.0, C1 = 3.0\n",
      "Optimization terminated successfully.    (Exit mode 0)\n",
      "            Current function value: 125.89119142267272\n",
      "            Iterations: 5\n",
      "            Function evaluations: 24\n",
      "            Gradient evaluations: 5\n",
      "Fitted line is : C0 = 5.495858513218274, C1 =1.4611861048396166 \n"
     ]
    },
    {
     "data": {
      "image/png": "[encoded data removed]",
      "text/plain": [
       "<Figure size 432x288 with 1 Axes>"
      ]
     },
     "metadata": {
      "needs_background": "light"
     },
     "output_type": "display_data"
    }
   ],
   "source": [
    "\n",
    "# fit a line to data points using optimizer\n",
    "\n",
    "import pandas as pd\n",
    "import numpy as np\n",
    "import matplotlib.pyplot as plt\n",
    "import scipy.optimize as spo\n",
    "\n",
    "\n",
    "\n",
    "#error function\n",
    "def error(line, data):\n",
    "    # to calculate error along y\n",
    "    # sum((Y - (mx+c))**2)\n",
    "    err = np.sum((data[:,1] - (line[0] * data[:,0] + line[1]))**2)\n",
    "    return err\n",
    "\n",
    "\n",
    "\n",
    "# function to fit a line\n",
    "def fit_line(data, error_func):\n",
    "    # initial guess of C0 & C1\n",
    "    l = np.float32([0,np.mean(data[:,1])])\n",
    "    # minimize funtion to find minimum error along the line\n",
    "    # what to minimize = error function\n",
    "    # initial guess = l \n",
    "    # method to minimize = SLSQP\n",
    "    result = spo.minimize(error_func, l, args = (data), method='SLSQP' , options ={'disp':True})\n",
    "    return result.x\n",
    "\n",
    "\n",
    "\n",
    "\n",
    "def test_run():\n",
    "    # define orginal line\n",
    "    # define original C0 & C1\n",
    "    l_orig = np.float32([5,3])\n",
    "    # print the points\n",
    "    print(\"Original line : C0 = {}, C1 = {}\".format(l_orig[0], l_orig[1]))\n",
    "    Xorig = np.linspace(0,10,21)\n",
    "    # compute y_original by using (Y = mx + c)\n",
    "    Yorig = l_orig[0] * Xorig + l_orig[1]\n",
    "    # plot the original line\n",
    "    plt.plot(Xorig, Yorig,'b--',linewidth =2.1,label=\"Original line\")\n",
    "        \n",
    "    \n",
    "    #generate noisy data\n",
    "    noise_sigma = 3.0\n",
    "    # add noise \n",
    "    noise = np.random.normal(0, noise_sigma, Yorig.shape)\n",
    "    data = np.asarray([Xorig, Yorig + noise]).T\n",
    "    plt.plot(data[:,0],data[:,1],'go',label=\"Data points\")\n",
    "    \n",
    "    # call l_fit \n",
    "    l_fit = fit_line(data, error)\n",
    "    print(\"Fitted line is : C0 = {}, C1 ={} \".format(l_fit[0], l_fit[1]))\n",
    "    # plot the fitted line\n",
    "    # plot(x, mx+c)\n",
    "    plt.plot(data[:,0], l_fit[0] * data[:,0] + l_fit[1],'r--',linewidth=2.0,label=\"fitted line\")\n",
    "    \n",
    "    \n",
    "    # add legend in the plot\n",
    "    plt.legend(loc=\"upper left\")\n",
    "    \n",
    "    \n",
    "if __name__ ==  \"__main__\":\n",
    "    test_run()\n",
    "    "
   ]
  },
  {
   "cell_type": "code",
   "execution_count": null,
   "metadata": {},
   "outputs": [],
   "source": []
  },
  {
   "cell_type": "code",
   "execution_count": null,
   "metadata": {},
   "outputs": [],
   "source": []
  },
  {
   "cell_type": "code",
   "execution_count": null,
   "metadata": {},
   "outputs": [],
   "source": []
  },
  {
   "cell_type": "code",
   "execution_count": null,
   "metadata": {},
   "outputs": [],
   "source": []
  },
  {
   "cell_type": "code",
   "execution_count": null,
   "metadata": {},
   "outputs": [],
   "source": []
  },
  {
   "cell_type": "code",
   "execution_count": null,
   "metadata": {},
   "outputs": [],
   "source": []
  },
  {
   "cell_type": "code",
   "execution_count": null,
   "metadata": {},
   "outputs": [],
   "source": []
  },
  {
   "cell_type": "code",
   "execution_count": null,
   "metadata": {},
   "outputs": [],
   "source": []
  },
  {
   "cell_type": "code",
   "execution_count": null,
   "metadata": {},
   "outputs": [],
   "source": []
  },
  {
   "cell_type": "code",
   "execution_count": null,
   "metadata": {},
   "outputs": [],
   "source": []
  },
  {
   "cell_type": "code",
   "execution_count": null,
   "metadata": {},
   "outputs": [],
   "source": []
  },
  {
   "cell_type": "code",
   "execution_count": null,
   "metadata": {},
   "outputs": [],
   "source": []
  },
  {
   "cell_type": "code",
   "execution_count": null,
   "metadata": {},
   "outputs": [],
   "source": []
  },
  {
   "cell_type": "code",
   "execution_count": null,
   "metadata": {},
   "outputs": [],
   "source": []
  },
  {
   "cell_type": "code",
   "execution_count": null,
   "metadata": {},
   "outputs": [],
   "source": []
  },
  {
   "cell_type": "code",
   "execution_count": null,
   "metadata": {},
   "outputs": [],
   "source": []
  },
  {
   "cell_type": "code",
   "execution_count": null,
   "metadata": {},
   "outputs": [],
   "source": []
  },
  {
   "cell_type": "code",
   "execution_count": null,
   "metadata": {},
   "outputs": [],
   "source": []
  },
  {
   "cell_type": "code",
   "execution_count": null,
   "metadata": {},
   "outputs": [],
   "source": []
  },
  {
   "cell_type": "code",
   "execution_count": null,
   "metadata": {},
   "outputs": [],
   "source": []
  },
  {
   "cell_type": "code",
   "execution_count": null,
   "metadata": {},
   "outputs": [],
   "source": []
  },
  {
   "cell_type": "code",
   "execution_count": null,
   "metadata": {},
   "outputs": [],
   "source": []
  },
  {
   "cell_type": "code",
   "execution_count": null,
   "metadata": {},
   "outputs": [],
   "source": []
  },
  {
   "cell_type": "code",
   "execution_count": null,
   "metadata": {},
   "outputs": [],
   "source": []
  }
 ],
 "metadata": {
  "kernelspec": {
   "display_name": "Python 3",
   "language": "python",
   "name": "python3"
  },
  "language_info": {
   "codemirror_mode": {
    "name": "ipython",
    "version": 3
   },
   "file_extension": ".py",
   "mimetype": "text/x-python",
   "name": "python",
   "nbconvert_exporter": "python",
   "pygments_lexer": "ipython3",
   "version": "3.7.0"
  }
 },
 "nbformat": 4,
 "nbformat_minor": 2
}
